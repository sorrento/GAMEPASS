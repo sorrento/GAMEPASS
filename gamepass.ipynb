{
 "cells": [
  {
   "cell_type": "code",
   "execution_count": 56,
   "metadata": {},
   "outputs": [
    {
     "name": "stdout",
     "output_type": "stream",
     "text": [
      "Hay 470 juegos de consola en el Game Pass de Xbox\n"
     ]
    },
    {
     "data": {
      "text/plain": [
       "470"
      ]
     },
     "execution_count": 56,
     "metadata": {},
     "output_type": "execute_result"
    }
   ],
   "source": [
    "from bs4 import BeautifulSoup\n",
    "import requests\n",
    "import pandas as pd\n",
    "url='https://www.windowscentral.com/xbox-game-pass-list'\n",
    "page=requests.get(url)\n",
    "soup=BeautifulSoup(page.content,'html.parser')\n",
    "\n",
    "# seleccionamos con soup el elemento ul que está justo después del h2\n",
    "ul=soup.find('h2',id='section-xbox-game-pass-games-list-for-xbox-consoles').find_next_sibling('ul')\n",
    "# cogemos todos los li que están dentro del ul\n",
    "# nos quedamos sólo con el texto\n",
    "lista = [elemento.text for elemento in ul.find_all('li')]\n",
    "print(f'Hay {len(lista)} juegos de consola en el Game Pass de Xbox')"
   ]
  },
  {
   "cell_type": "code",
   "execution_count": null,
   "metadata": {},
   "outputs": [],
   "source": []
  }
 ],
 "metadata": {
  "kernelspec": {
   "display_name": "base",
   "language": "python",
   "name": "python3"
  },
  "language_info": {
   "codemirror_mode": {
    "name": "ipython",
    "version": 3
   },
   "file_extension": ".py",
   "mimetype": "text/x-python",
   "name": "python",
   "nbconvert_exporter": "python",
   "pygments_lexer": "ipython3",
   "version": "3.8.8"
  },
  "orig_nbformat": 4
 },
 "nbformat": 4,
 "nbformat_minor": 2
}
